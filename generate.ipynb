{
 "cells": [
  {
   "cell_type": "code",
   "execution_count": 1,
   "id": "e2e1a1ca-34c0-4036-a383-1db3bcd1ba7c",
   "metadata": {
    "tags": []
   },
   "outputs": [],
   "source": [
    "import numpy as np\n",
    "import pandas as pd\n",
    "import os\n",
    "import matplotlib.pyplot as plt\n",
    "import seaborn as sns"
   ]
  },
  {
   "cell_type": "code",
   "execution_count": 2,
   "id": "6c65c6c4-f443-4d5d-aed8-7f64c5358b3a",
   "metadata": {
    "tags": []
   },
   "outputs": [],
   "source": [
    "from keras.models import Sequential\n",
    "from keras.layers import Dense\n",
    "from numpy.random import randn\n",
    "from matplotlib import pyplot\n",
    "from sklearn.model_selection import train_test_split\n",
    "from sklearn.ensemble import RandomForestClassifier\n",
    "from sklearn import metrics"
   ]
  },
  {
   "cell_type": "code",
   "execution_count": 3,
   "id": "ca05b5a5-fb9c-419e-96d4-00778104575d",
   "metadata": {},
   "outputs": [],
   "source": [
    "data = pd.read_csv(\"obesity_child_age.csv\")"
   ]
  },
  {
   "cell_type": "code",
   "execution_count": 4,
   "id": "f69a9021-f67a-49c4-bf33-5268850c00f8",
   "metadata": {
    "tags": []
   },
   "outputs": [
    {
     "data": {
      "text/plain": [
       "(99, 6)"
      ]
     },
     "execution_count": 4,
     "metadata": {},
     "output_type": "execute_result"
    }
   ],
   "source": [
    "data.shape"
   ]
  },
  {
   "cell_type": "code",
   "execution_count": 5,
   "id": "53cb866d-567c-41b9-8cda-0cbf76a3638f",
   "metadata": {
    "tags": []
   },
   "outputs": [
    {
     "data": {
      "text/html": [
       "<div>\n",
       "<style scoped>\n",
       "    .dataframe tbody tr th:only-of-type {\n",
       "        vertical-align: middle;\n",
       "    }\n",
       "\n",
       "    .dataframe tbody tr th {\n",
       "        vertical-align: top;\n",
       "    }\n",
       "\n",
       "    .dataframe thead th {\n",
       "        text-align: right;\n",
       "    }\n",
       "</style>\n",
       "<table border=\"1\" class=\"dataframe\">\n",
       "  <thead>\n",
       "    <tr style=\"text-align: right;\">\n",
       "      <th></th>\n",
       "      <th>index</th>\n",
       "      <th>Time</th>\n",
       "      <th>Age</th>\n",
       "      <th>Gender</th>\n",
       "      <th>PercentObese</th>\n",
       "      <th>SE</th>\n",
       "    </tr>\n",
       "  </thead>\n",
       "  <tbody>\n",
       "    <tr>\n",
       "      <th>94</th>\n",
       "      <td>94</td>\n",
       "      <td>[2005,2006]</td>\n",
       "      <td>[12,19]</td>\n",
       "      <td>F</td>\n",
       "      <td>17.3</td>\n",
       "      <td>-2.1</td>\n",
       "    </tr>\n",
       "    <tr>\n",
       "      <th>95</th>\n",
       "      <td>95</td>\n",
       "      <td>[2007,2008]</td>\n",
       "      <td>[12,19]</td>\n",
       "      <td>F</td>\n",
       "      <td>16.8</td>\n",
       "      <td>-2.0</td>\n",
       "    </tr>\n",
       "    <tr>\n",
       "      <th>96</th>\n",
       "      <td>96</td>\n",
       "      <td>[2009,2010]</td>\n",
       "      <td>[12,19]</td>\n",
       "      <td>F</td>\n",
       "      <td>17.1</td>\n",
       "      <td>-1.3</td>\n",
       "    </tr>\n",
       "    <tr>\n",
       "      <th>97</th>\n",
       "      <td>97</td>\n",
       "      <td>[2011,2012]</td>\n",
       "      <td>[12,19]</td>\n",
       "      <td>F</td>\n",
       "      <td>20.7</td>\n",
       "      <td>-2.0</td>\n",
       "    </tr>\n",
       "    <tr>\n",
       "      <th>98</th>\n",
       "      <td>98</td>\n",
       "      <td>[2013,2014]</td>\n",
       "      <td>[12,19]</td>\n",
       "      <td>F</td>\n",
       "      <td>21.4</td>\n",
       "      <td>-3.2</td>\n",
       "    </tr>\n",
       "  </tbody>\n",
       "</table>\n",
       "</div>"
      ],
      "text/plain": [
       "    index         Time      Age Gender  PercentObese   SE\n",
       "94     94  [2005,2006]  [12,19]      F          17.3 -2.1\n",
       "95     95  [2007,2008]  [12,19]      F          16.8 -2.0\n",
       "96     96  [2009,2010]  [12,19]      F          17.1 -1.3\n",
       "97     97  [2011,2012]  [12,19]      F          20.7 -2.0\n",
       "98     98  [2013,2014]  [12,19]      F          21.4 -3.2"
      ]
     },
     "execution_count": 5,
     "metadata": {},
     "output_type": "execute_result"
    }
   ],
   "source": [
    "data.tail()"
   ]
  },
  {
   "cell_type": "code",
   "execution_count": 6,
   "id": "af935fea-afae-42eb-8d62-66292f3db649",
   "metadata": {
    "tags": []
   },
   "outputs": [
    {
     "data": {
      "text/plain": [
       "Index(['index', 'Time', 'Age', 'Gender', 'PercentObese', 'SE'], dtype='object')"
      ]
     },
     "execution_count": 6,
     "metadata": {},
     "output_type": "execute_result"
    }
   ],
   "source": [
    "data.columns"
   ]
  },
  {
   "cell_type": "code",
   "execution_count": 7,
   "id": "dfd63771-299b-42b9-8467-218abdb52897",
   "metadata": {
    "tags": []
   },
   "outputs": [
    {
     "name": "stdout",
     "output_type": "stream",
     "text": [
      "<class 'pandas.core.frame.DataFrame'>\n",
      "RangeIndex: 99 entries, 0 to 98\n",
      "Data columns (total 6 columns):\n",
      " #   Column        Non-Null Count  Dtype  \n",
      "---  ------        --------------  -----  \n",
      " 0   index         99 non-null     int64  \n",
      " 1   Time          99 non-null     object \n",
      " 2   Age           99 non-null     object \n",
      " 3   Gender        99 non-null     object \n",
      " 4   PercentObese  99 non-null     float64\n",
      " 5   SE            99 non-null     float64\n",
      "dtypes: float64(2), int64(1), object(3)\n",
      "memory usage: 4.8+ KB\n"
     ]
    }
   ],
   "source": [
    "data.info()"
   ]
  },
  {
   "cell_type": "code",
   "execution_count": 8,
   "id": "1808d5c6-1a47-43df-b783-01071c34e34a",
   "metadata": {
    "tags": []
   },
   "outputs": [
    {
     "data": {
      "text/plain": [
       "index           0\n",
       "Time            0\n",
       "Age             0\n",
       "Gender          0\n",
       "PercentObese    0\n",
       "SE              0\n",
       "dtype: int64"
      ]
     },
     "execution_count": 8,
     "metadata": {},
     "output_type": "execute_result"
    }
   ],
   "source": [
    "data.isnull().sum()"
   ]
  },
  {
   "cell_type": "code",
   "execution_count": 9,
   "id": "b8ba997a-b7bf-49ab-bd56-a24201d66325",
   "metadata": {
    "tags": []
   },
   "outputs": [
    {
     "data": {
      "text/plain": [
       "0"
      ]
     },
     "execution_count": 9,
     "metadata": {},
     "output_type": "execute_result"
    }
   ],
   "source": [
    "data.duplicated().sum()"
   ]
  },
  {
   "cell_type": "code",
   "execution_count": 10,
   "id": "3304128b-416a-4b7b-a1e7-cb8f59a6d82b",
   "metadata": {
    "tags": []
   },
   "outputs": [],
   "source": [
    "data1 = data"
   ]
  },
  {
   "cell_type": "code",
   "execution_count": 11,
   "id": "89510d00-eb3e-4bff-b9d1-f8344f7601ac",
   "metadata": {
    "tags": []
   },
   "outputs": [],
   "source": [
    "#delete index row\n",
    "data1.drop('index', axis=1, inplace=True)"
   ]
  },
  {
   "cell_type": "code",
   "execution_count": 12,
   "id": "4f9a2c8c-d109-4046-b749-3845d117f12e",
   "metadata": {
    "tags": []
   },
   "outputs": [],
   "source": [
    "#separating Time into StartYear and EndYear\n",
    "#separating Age into MinAge and MaxAge\n",
    "from sklearn.preprocessing import StandardScaler\n",
    "# data['Time'] = data['Time'].apply(lambda x: [int(year) for year in x.strip('[]').split(',')])\n",
    "# data['StartYear'] = data['Time'].apply(lambda x: x[0])\n",
    "# data['EndYear'] = data['Time'].apply(lambda x: x[1])\n",
    "# data.drop('Time', axis=1, inplace=True)\n",
    "\n",
    "data1['StartYear'] = data1['Time'].apply(lambda x: int(x.strip('[]').split(',')[0]))\n",
    "data1['EndYear'] = data1['Time'].apply(lambda x: int(x.strip('[]').split(',')[1]))\n",
    "data1.drop('Time', axis=1, inplace=True)\n",
    "\n",
    "# 1. Convert string representations of age ranges to separate minimum and maximum ages\n",
    "# Extract minimum and maximum ages from the list\n",
    "data1.Age = data1.Age.str.strip('[]')\n",
    "data1[['MinAge', 'MaxAge']] = data1['Age'].str.extract(\"(\\d+),(\\d+)\", expand=True).astype(int)\n",
    "data1.drop('Age', axis=1, inplace=True)"
   ]
  },
  {
   "cell_type": "code",
   "execution_count": 13,
   "id": "9ff03214-8933-4fce-9669-22a1ea53991c",
   "metadata": {
    "tags": []
   },
   "outputs": [],
   "source": [
    "#get dummies for gender column\n",
    "gender = pd.get_dummies(data1.Gender)\n",
    "data1 = data1.join(gender)\n",
    "data1.drop('Gender', axis=1, inplace=True)\n",
    "data1 = data1.replace(to_replace = [True,False],value = ['1','0'])"
   ]
  },
  {
   "cell_type": "code",
   "execution_count": 14,
   "id": "7b2e0ddb-ddc6-444a-8a47-de3f3bfd7fc5",
   "metadata": {
    "tags": []
   },
   "outputs": [
    {
     "data": {
      "text/html": [
       "<div>\n",
       "<style scoped>\n",
       "    .dataframe tbody tr th:only-of-type {\n",
       "        vertical-align: middle;\n",
       "    }\n",
       "\n",
       "    .dataframe tbody tr th {\n",
       "        vertical-align: top;\n",
       "    }\n",
       "\n",
       "    .dataframe thead th {\n",
       "        text-align: right;\n",
       "    }\n",
       "</style>\n",
       "<table border=\"1\" class=\"dataframe\">\n",
       "  <thead>\n",
       "    <tr style=\"text-align: right;\">\n",
       "      <th></th>\n",
       "      <th>PercentObese</th>\n",
       "      <th>SE</th>\n",
       "      <th>StartYear</th>\n",
       "      <th>EndYear</th>\n",
       "      <th>MinAge</th>\n",
       "      <th>MaxAge</th>\n",
       "      <th>All</th>\n",
       "      <th>F</th>\n",
       "      <th>M</th>\n",
       "    </tr>\n",
       "  </thead>\n",
       "  <tbody>\n",
       "    <tr>\n",
       "      <th>0</th>\n",
       "      <td>5.0</td>\n",
       "      <td>-0.6</td>\n",
       "      <td>1971</td>\n",
       "      <td>1974</td>\n",
       "      <td>2</td>\n",
       "      <td>5</td>\n",
       "      <td>1</td>\n",
       "      <td>0</td>\n",
       "      <td>0</td>\n",
       "    </tr>\n",
       "    <tr>\n",
       "      <th>1</th>\n",
       "      <td>5.0</td>\n",
       "      <td>-0.6</td>\n",
       "      <td>1976</td>\n",
       "      <td>1980</td>\n",
       "      <td>2</td>\n",
       "      <td>5</td>\n",
       "      <td>1</td>\n",
       "      <td>0</td>\n",
       "      <td>0</td>\n",
       "    </tr>\n",
       "    <tr>\n",
       "      <th>2</th>\n",
       "      <td>7.2</td>\n",
       "      <td>-0.7</td>\n",
       "      <td>1988</td>\n",
       "      <td>1994</td>\n",
       "      <td>2</td>\n",
       "      <td>5</td>\n",
       "      <td>1</td>\n",
       "      <td>0</td>\n",
       "      <td>0</td>\n",
       "    </tr>\n",
       "    <tr>\n",
       "      <th>3</th>\n",
       "      <td>10.3</td>\n",
       "      <td>-1.7</td>\n",
       "      <td>1999</td>\n",
       "      <td>2000</td>\n",
       "      <td>2</td>\n",
       "      <td>5</td>\n",
       "      <td>1</td>\n",
       "      <td>0</td>\n",
       "      <td>0</td>\n",
       "    </tr>\n",
       "    <tr>\n",
       "      <th>4</th>\n",
       "      <td>10.6</td>\n",
       "      <td>-1.8</td>\n",
       "      <td>2001</td>\n",
       "      <td>2002</td>\n",
       "      <td>2</td>\n",
       "      <td>5</td>\n",
       "      <td>1</td>\n",
       "      <td>0</td>\n",
       "      <td>0</td>\n",
       "    </tr>\n",
       "    <tr>\n",
       "      <th>...</th>\n",
       "      <td>...</td>\n",
       "      <td>...</td>\n",
       "      <td>...</td>\n",
       "      <td>...</td>\n",
       "      <td>...</td>\n",
       "      <td>...</td>\n",
       "      <td>...</td>\n",
       "      <td>...</td>\n",
       "      <td>...</td>\n",
       "    </tr>\n",
       "    <tr>\n",
       "      <th>94</th>\n",
       "      <td>17.3</td>\n",
       "      <td>-2.1</td>\n",
       "      <td>2005</td>\n",
       "      <td>2006</td>\n",
       "      <td>12</td>\n",
       "      <td>19</td>\n",
       "      <td>0</td>\n",
       "      <td>1</td>\n",
       "      <td>0</td>\n",
       "    </tr>\n",
       "    <tr>\n",
       "      <th>95</th>\n",
       "      <td>16.8</td>\n",
       "      <td>-2.0</td>\n",
       "      <td>2007</td>\n",
       "      <td>2008</td>\n",
       "      <td>12</td>\n",
       "      <td>19</td>\n",
       "      <td>0</td>\n",
       "      <td>1</td>\n",
       "      <td>0</td>\n",
       "    </tr>\n",
       "    <tr>\n",
       "      <th>96</th>\n",
       "      <td>17.1</td>\n",
       "      <td>-1.3</td>\n",
       "      <td>2009</td>\n",
       "      <td>2010</td>\n",
       "      <td>12</td>\n",
       "      <td>19</td>\n",
       "      <td>0</td>\n",
       "      <td>1</td>\n",
       "      <td>0</td>\n",
       "    </tr>\n",
       "    <tr>\n",
       "      <th>97</th>\n",
       "      <td>20.7</td>\n",
       "      <td>-2.0</td>\n",
       "      <td>2011</td>\n",
       "      <td>2012</td>\n",
       "      <td>12</td>\n",
       "      <td>19</td>\n",
       "      <td>0</td>\n",
       "      <td>1</td>\n",
       "      <td>0</td>\n",
       "    </tr>\n",
       "    <tr>\n",
       "      <th>98</th>\n",
       "      <td>21.4</td>\n",
       "      <td>-3.2</td>\n",
       "      <td>2013</td>\n",
       "      <td>2014</td>\n",
       "      <td>12</td>\n",
       "      <td>19</td>\n",
       "      <td>0</td>\n",
       "      <td>1</td>\n",
       "      <td>0</td>\n",
       "    </tr>\n",
       "  </tbody>\n",
       "</table>\n",
       "<p>99 rows × 9 columns</p>\n",
       "</div>"
      ],
      "text/plain": [
       "    PercentObese   SE  StartYear  EndYear  MinAge  MaxAge All  F  M\n",
       "0            5.0 -0.6       1971     1974       2       5   1  0  0\n",
       "1            5.0 -0.6       1976     1980       2       5   1  0  0\n",
       "2            7.2 -0.7       1988     1994       2       5   1  0  0\n",
       "3           10.3 -1.7       1999     2000       2       5   1  0  0\n",
       "4           10.6 -1.8       2001     2002       2       5   1  0  0\n",
       "..           ...  ...        ...      ...     ...     ...  .. .. ..\n",
       "94          17.3 -2.1       2005     2006      12      19   0  1  0\n",
       "95          16.8 -2.0       2007     2008      12      19   0  1  0\n",
       "96          17.1 -1.3       2009     2010      12      19   0  1  0\n",
       "97          20.7 -2.0       2011     2012      12      19   0  1  0\n",
       "98          21.4 -3.2       2013     2014      12      19   0  1  0\n",
       "\n",
       "[99 rows x 9 columns]"
      ]
     },
     "execution_count": 14,
     "metadata": {},
     "output_type": "execute_result"
    }
   ],
   "source": [
    "data1"
   ]
  },
  {
   "cell_type": "code",
   "execution_count": 15,
   "id": "677bddbe-4819-42e3-8f5e-4a61ee6a4cb4",
   "metadata": {
    "tags": []
   },
   "outputs": [],
   "source": [
    "from ctgan import CTGAN\n",
    "\n",
    "# initialize the CTGAN model\n",
    "model = CTGAN()\n",
    "\n",
    "# fit the model to the original data\n",
    "model.fit(data1)\n",
    "\n",
    "# generate synthetic data\n",
    "synthetic_data = model.sample(len(data1))\n",
    "synthetic_data1 = model.sample(len(data1))\n",
    "synthetic_data2 = model.sample(len(data1))\n",
    "synthetic_data3 = model.sample(len(data1))\n",
    "synthetic_data4 = model.sample(len(data1))\n",
    "\n",
    "# save the synthetic data to a CSV file\n",
    "synthetic_data.to_csv('synthetic_data.csv', index=False)\n",
    "synthetic_data1.to_csv('synthetic_data1.csv', index=False)\n",
    "synthetic_data2.to_csv('synthetic_data2.csv', index=False)\n",
    "synthetic_data3.to_csv('synthetic_data3.csv', index=False)\n",
    "synthetic_data4.to_csv('synthetic_data4.csv', index=False)"
   ]
  },
  {
   "cell_type": "code",
   "execution_count": 16,
   "id": "037a0a56-0f0f-46b1-8a3d-b122ed63a60e",
   "metadata": {
    "tags": []
   },
   "outputs": [
    {
     "data": {
      "text/html": [
       "<div>\n",
       "<style scoped>\n",
       "    .dataframe tbody tr th:only-of-type {\n",
       "        vertical-align: middle;\n",
       "    }\n",
       "\n",
       "    .dataframe tbody tr th {\n",
       "        vertical-align: top;\n",
       "    }\n",
       "\n",
       "    .dataframe thead th {\n",
       "        text-align: right;\n",
       "    }\n",
       "</style>\n",
       "<table border=\"1\" class=\"dataframe\">\n",
       "  <thead>\n",
       "    <tr style=\"text-align: right;\">\n",
       "      <th></th>\n",
       "      <th>PercentObese</th>\n",
       "      <th>SE</th>\n",
       "      <th>StartYear</th>\n",
       "      <th>EndYear</th>\n",
       "      <th>MinAge</th>\n",
       "      <th>MaxAge</th>\n",
       "      <th>All</th>\n",
       "      <th>F</th>\n",
       "      <th>M</th>\n",
       "    </tr>\n",
       "  </thead>\n",
       "  <tbody>\n",
       "    <tr>\n",
       "      <th>0</th>\n",
       "      <td>13.031729</td>\n",
       "      <td>-2.085836</td>\n",
       "      <td>1985</td>\n",
       "      <td>2005</td>\n",
       "      <td>3</td>\n",
       "      <td>12</td>\n",
       "      <td>-0.042681</td>\n",
       "      <td>0.108128</td>\n",
       "      <td>-0.05274</td>\n",
       "    </tr>\n",
       "    <tr>\n",
       "      <th>1</th>\n",
       "      <td>13.027535</td>\n",
       "      <td>-2.304803</td>\n",
       "      <td>1998</td>\n",
       "      <td>2000</td>\n",
       "      <td>4</td>\n",
       "      <td>17</td>\n",
       "      <td>-0.144249</td>\n",
       "      <td>0.121893</td>\n",
       "      <td>0.012897</td>\n",
       "    </tr>\n",
       "    <tr>\n",
       "      <th>2</th>\n",
       "      <td>8.640120</td>\n",
       "      <td>-2.672343</td>\n",
       "      <td>1964</td>\n",
       "      <td>2004</td>\n",
       "      <td>0</td>\n",
       "      <td>4</td>\n",
       "      <td>0.11586</td>\n",
       "      <td>0.80245</td>\n",
       "      <td>-0.056888</td>\n",
       "    </tr>\n",
       "    <tr>\n",
       "      <th>3</th>\n",
       "      <td>13.286711</td>\n",
       "      <td>-0.802989</td>\n",
       "      <td>1970</td>\n",
       "      <td>1992</td>\n",
       "      <td>5</td>\n",
       "      <td>8</td>\n",
       "      <td>-0.14902</td>\n",
       "      <td>-0.102086</td>\n",
       "      <td>-0.150368</td>\n",
       "    </tr>\n",
       "    <tr>\n",
       "      <th>4</th>\n",
       "      <td>7.415683</td>\n",
       "      <td>-1.417472</td>\n",
       "      <td>2006</td>\n",
       "      <td>2007</td>\n",
       "      <td>6</td>\n",
       "      <td>11</td>\n",
       "      <td>0.110065</td>\n",
       "      <td>0.772156</td>\n",
       "      <td>-0.155093</td>\n",
       "    </tr>\n",
       "  </tbody>\n",
       "</table>\n",
       "</div>"
      ],
      "text/plain": [
       "   PercentObese        SE  StartYear  EndYear  MinAge  MaxAge       All   \n",
       "0     13.031729 -2.085836       1985     2005       3      12 -0.042681  \\\n",
       "1     13.027535 -2.304803       1998     2000       4      17 -0.144249   \n",
       "2      8.640120 -2.672343       1964     2004       0       4   0.11586   \n",
       "3     13.286711 -0.802989       1970     1992       5       8  -0.14902   \n",
       "4      7.415683 -1.417472       2006     2007       6      11  0.110065   \n",
       "\n",
       "          F         M  \n",
       "0  0.108128  -0.05274  \n",
       "1  0.121893  0.012897  \n",
       "2   0.80245 -0.056888  \n",
       "3 -0.102086 -0.150368  \n",
       "4  0.772156 -0.155093  "
      ]
     },
     "execution_count": 16,
     "metadata": {},
     "output_type": "execute_result"
    }
   ],
   "source": [
    "synthetic_data.head()"
   ]
  },
  {
   "cell_type": "code",
   "execution_count": 17,
   "id": "db3ab552-4259-49ea-bef3-f045dd7c2f76",
   "metadata": {
    "tags": []
   },
   "outputs": [],
   "source": [
    "data2 = pd.concat([data1,synthetic_data], ignore_index=True)\n",
    "data2 = pd.concat([data2,synthetic_data1], ignore_index=True)\n",
    "data2 = pd.concat([data2,synthetic_data2], ignore_index=True)\n",
    "data2 = pd.concat([data2,synthetic_data3], ignore_index=True)\n",
    "data2 = pd.concat([data2,synthetic_data4], ignore_index=True)"
   ]
  },
  {
   "cell_type": "code",
   "execution_count": 18,
   "id": "4515dc75-5245-4467-8af3-7ef89816843f",
   "metadata": {
    "tags": []
   },
   "outputs": [
    {
     "data": {
      "text/html": [
       "<div>\n",
       "<style scoped>\n",
       "    .dataframe tbody tr th:only-of-type {\n",
       "        vertical-align: middle;\n",
       "    }\n",
       "\n",
       "    .dataframe tbody tr th {\n",
       "        vertical-align: top;\n",
       "    }\n",
       "\n",
       "    .dataframe thead th {\n",
       "        text-align: right;\n",
       "    }\n",
       "</style>\n",
       "<table border=\"1\" class=\"dataframe\">\n",
       "  <thead>\n",
       "    <tr style=\"text-align: right;\">\n",
       "      <th></th>\n",
       "      <th>PercentObese</th>\n",
       "      <th>SE</th>\n",
       "      <th>StartYear</th>\n",
       "      <th>EndYear</th>\n",
       "      <th>MinAge</th>\n",
       "      <th>MaxAge</th>\n",
       "      <th>All</th>\n",
       "      <th>F</th>\n",
       "      <th>M</th>\n",
       "    </tr>\n",
       "  </thead>\n",
       "  <tbody>\n",
       "    <tr>\n",
       "      <th>0</th>\n",
       "      <td>5.000000</td>\n",
       "      <td>-0.600000</td>\n",
       "      <td>1971</td>\n",
       "      <td>1974</td>\n",
       "      <td>2</td>\n",
       "      <td>5</td>\n",
       "      <td>1</td>\n",
       "      <td>0</td>\n",
       "      <td>0</td>\n",
       "    </tr>\n",
       "    <tr>\n",
       "      <th>1</th>\n",
       "      <td>5.000000</td>\n",
       "      <td>-0.600000</td>\n",
       "      <td>1976</td>\n",
       "      <td>1980</td>\n",
       "      <td>2</td>\n",
       "      <td>5</td>\n",
       "      <td>1</td>\n",
       "      <td>0</td>\n",
       "      <td>0</td>\n",
       "    </tr>\n",
       "    <tr>\n",
       "      <th>2</th>\n",
       "      <td>7.200000</td>\n",
       "      <td>-0.700000</td>\n",
       "      <td>1988</td>\n",
       "      <td>1994</td>\n",
       "      <td>2</td>\n",
       "      <td>5</td>\n",
       "      <td>1</td>\n",
       "      <td>0</td>\n",
       "      <td>0</td>\n",
       "    </tr>\n",
       "    <tr>\n",
       "      <th>3</th>\n",
       "      <td>10.300000</td>\n",
       "      <td>-1.700000</td>\n",
       "      <td>1999</td>\n",
       "      <td>2000</td>\n",
       "      <td>2</td>\n",
       "      <td>5</td>\n",
       "      <td>1</td>\n",
       "      <td>0</td>\n",
       "      <td>0</td>\n",
       "    </tr>\n",
       "    <tr>\n",
       "      <th>4</th>\n",
       "      <td>10.600000</td>\n",
       "      <td>-1.800000</td>\n",
       "      <td>2001</td>\n",
       "      <td>2002</td>\n",
       "      <td>2</td>\n",
       "      <td>5</td>\n",
       "      <td>1</td>\n",
       "      <td>0</td>\n",
       "      <td>0</td>\n",
       "    </tr>\n",
       "    <tr>\n",
       "      <th>...</th>\n",
       "      <td>...</td>\n",
       "      <td>...</td>\n",
       "      <td>...</td>\n",
       "      <td>...</td>\n",
       "      <td>...</td>\n",
       "      <td>...</td>\n",
       "      <td>...</td>\n",
       "      <td>...</td>\n",
       "      <td>...</td>\n",
       "    </tr>\n",
       "    <tr>\n",
       "      <th>589</th>\n",
       "      <td>13.993578</td>\n",
       "      <td>-1.617226</td>\n",
       "      <td>2014</td>\n",
       "      <td>1998</td>\n",
       "      <td>5</td>\n",
       "      <td>8</td>\n",
       "      <td>1.1676</td>\n",
       "      <td>0.165859</td>\n",
       "      <td>-0.161288</td>\n",
       "    </tr>\n",
       "    <tr>\n",
       "      <th>590</th>\n",
       "      <td>13.253465</td>\n",
       "      <td>-1.499448</td>\n",
       "      <td>1990</td>\n",
       "      <td>2003</td>\n",
       "      <td>2</td>\n",
       "      <td>19</td>\n",
       "      <td>-0.107955</td>\n",
       "      <td>0.05434</td>\n",
       "      <td>-0.099486</td>\n",
       "    </tr>\n",
       "    <tr>\n",
       "      <th>591</th>\n",
       "      <td>5.786037</td>\n",
       "      <td>-1.109681</td>\n",
       "      <td>1991</td>\n",
       "      <td>1994</td>\n",
       "      <td>8</td>\n",
       "      <td>9</td>\n",
       "      <td>0.548591</td>\n",
       "      <td>1.021984</td>\n",
       "      <td>-0.072562</td>\n",
       "    </tr>\n",
       "    <tr>\n",
       "      <th>592</th>\n",
       "      <td>14.953436</td>\n",
       "      <td>-3.159436</td>\n",
       "      <td>1990</td>\n",
       "      <td>1989</td>\n",
       "      <td>14</td>\n",
       "      <td>16</td>\n",
       "      <td>-0.192078</td>\n",
       "      <td>1.251274</td>\n",
       "      <td>-0.082418</td>\n",
       "    </tr>\n",
       "    <tr>\n",
       "      <th>593</th>\n",
       "      <td>10.995632</td>\n",
       "      <td>-2.962235</td>\n",
       "      <td>2001</td>\n",
       "      <td>1991</td>\n",
       "      <td>1</td>\n",
       "      <td>3</td>\n",
       "      <td>-0.077063</td>\n",
       "      <td>-0.007216</td>\n",
       "      <td>-0.107104</td>\n",
       "    </tr>\n",
       "  </tbody>\n",
       "</table>\n",
       "<p>594 rows × 9 columns</p>\n",
       "</div>"
      ],
      "text/plain": [
       "     PercentObese        SE  StartYear  EndYear  MinAge  MaxAge       All   \n",
       "0        5.000000 -0.600000       1971     1974       2       5         1  \\\n",
       "1        5.000000 -0.600000       1976     1980       2       5         1   \n",
       "2        7.200000 -0.700000       1988     1994       2       5         1   \n",
       "3       10.300000 -1.700000       1999     2000       2       5         1   \n",
       "4       10.600000 -1.800000       2001     2002       2       5         1   \n",
       "..            ...       ...        ...      ...     ...     ...       ...   \n",
       "589     13.993578 -1.617226       2014     1998       5       8    1.1676   \n",
       "590     13.253465 -1.499448       1990     2003       2      19 -0.107955   \n",
       "591      5.786037 -1.109681       1991     1994       8       9  0.548591   \n",
       "592     14.953436 -3.159436       1990     1989      14      16 -0.192078   \n",
       "593     10.995632 -2.962235       2001     1991       1       3 -0.077063   \n",
       "\n",
       "            F         M  \n",
       "0           0         0  \n",
       "1           0         0  \n",
       "2           0         0  \n",
       "3           0         0  \n",
       "4           0         0  \n",
       "..        ...       ...  \n",
       "589  0.165859 -0.161288  \n",
       "590   0.05434 -0.099486  \n",
       "591  1.021984 -0.072562  \n",
       "592  1.251274 -0.082418  \n",
       "593 -0.007216 -0.107104  \n",
       "\n",
       "[594 rows x 9 columns]"
      ]
     },
     "execution_count": 18,
     "metadata": {},
     "output_type": "execute_result"
    }
   ],
   "source": [
    "data2"
   ]
  },
  {
   "cell_type": "code",
   "execution_count": 19,
   "id": "b3d2984d-fde4-4cb2-8b37-e308a1ef1893",
   "metadata": {
    "tags": []
   },
   "outputs": [],
   "source": [
    "data2.to_csv('data2.csv', index=False)"
   ]
  },
  {
   "cell_type": "code",
   "execution_count": 20,
   "id": "df3aa507-ccd4-4e5e-a97b-d64a29afccda",
   "metadata": {
    "tags": []
   },
   "outputs": [
    {
     "data": {
      "text/plain": [
       "<Axes: >"
      ]
     },
     "execution_count": 20,
     "metadata": {},
     "output_type": "execute_result"
    },
    {
     "data": {
      "image/png": "[encoded data removed]",
      "text/plain": [
       "<Figure size 1500x1000 with 2 Axes>"
      ]
     },
     "metadata": {},
     "output_type": "display_data"
    }
   ],
   "source": [
    "#correlation map\n",
    "plt.figure(figsize=(15,10))\n",
    "sns.heatmap(data2.corr(), annot = True)"
   ]
  },
  {
   "cell_type": "code",
   "execution_count": 21,
   "id": "ae74ba52-3cf8-4770-8d9f-882e7df83e11",
   "metadata": {
    "tags": []
   },
   "outputs": [],
   "source": [
    "# 3. Standardize the continuous-valued features 'Age' and 'PercentObese'\n",
    "continuous_features = ['PercentObese', 'MinAge', 'MaxAge']\n",
    "scaler = StandardScaler()\n",
    "data2[continuous_features] = scaler.fit_transform(data2[continuous_features])"
   ]
  },
  {
   "cell_type": "code",
   "execution_count": 22,
   "id": "af811dd8-4329-4a40-bb49-19eea8f888ac",
   "metadata": {
    "tags": []
   },
   "outputs": [],
   "source": [
    "from sklearn.model_selection import train_test_split\n",
    "\n",
    "X=data2.drop(['PercentObese','SE'],axis=1)\n",
    "Y=data2['PercentObese']\n"
   ]
  },
  {
   "cell_type": "code",
   "execution_count": 23,
   "id": "74873e6a-eb59-40e7-86dc-a14a771db742",
   "metadata": {
    "tags": []
   },
   "outputs": [
    {
     "data": {
      "text/html": [
       "<div>\n",
       "<style scoped>\n",
       "    .dataframe tbody tr th:only-of-type {\n",
       "        vertical-align: middle;\n",
       "    }\n",
       "\n",
       "    .dataframe tbody tr th {\n",
       "        vertical-align: top;\n",
       "    }\n",
       "\n",
       "    .dataframe thead th {\n",
       "        text-align: right;\n",
       "    }\n",
       "</style>\n",
       "<table border=\"1\" class=\"dataframe\">\n",
       "  <thead>\n",
       "    <tr style=\"text-align: right;\">\n",
       "      <th></th>\n",
       "      <th>StartYear</th>\n",
       "      <th>EndYear</th>\n",
       "      <th>MinAge</th>\n",
       "      <th>MaxAge</th>\n",
       "      <th>All</th>\n",
       "      <th>F</th>\n",
       "      <th>M</th>\n",
       "      <th>PercentObese</th>\n",
       "    </tr>\n",
       "  </thead>\n",
       "  <tbody>\n",
       "    <tr>\n",
       "      <th>239</th>\n",
       "      <td>1994</td>\n",
       "      <td>1986</td>\n",
       "      <td>-0.846553</td>\n",
       "      <td>-0.540600</td>\n",
       "      <td>-0.040629</td>\n",
       "      <td>0.039576</td>\n",
       "      <td>-0.061567</td>\n",
       "      <td>-1.226219</td>\n",
       "    </tr>\n",
       "    <tr>\n",
       "      <th>273</th>\n",
       "      <td>1976</td>\n",
       "      <td>1952</td>\n",
       "      <td>-1.565599</td>\n",
       "      <td>1.357456</td>\n",
       "      <td>0.018826</td>\n",
       "      <td>0.052075</td>\n",
       "      <td>-0.077708</td>\n",
       "      <td>1.650355</td>\n",
       "    </tr>\n",
       "    <tr>\n",
       "      <th>90</th>\n",
       "      <td>1988</td>\n",
       "      <td>1994</td>\n",
       "      <td>1.550266</td>\n",
       "      <td>1.530007</td>\n",
       "      <td>0</td>\n",
       "      <td>1</td>\n",
       "      <td>0</td>\n",
       "      <td>-0.411314</td>\n",
       "    </tr>\n",
       "    <tr>\n",
       "      <th>47</th>\n",
       "      <td>1999</td>\n",
       "      <td>2000</td>\n",
       "      <td>0.112174</td>\n",
       "      <td>0.149602</td>\n",
       "      <td>0</td>\n",
       "      <td>0</td>\n",
       "      <td>1</td>\n",
       "      <td>0.679083</td>\n",
       "    </tr>\n",
       "    <tr>\n",
       "      <th>560</th>\n",
       "      <td>2008</td>\n",
       "      <td>2012</td>\n",
       "      <td>-0.606871</td>\n",
       "      <td>-1.403353</td>\n",
       "      <td>-0.182971</td>\n",
       "      <td>-0.209193</td>\n",
       "      <td>0.151052</td>\n",
       "      <td>0.173747</td>\n",
       "    </tr>\n",
       "    <tr>\n",
       "      <th>...</th>\n",
       "      <td>...</td>\n",
       "      <td>...</td>\n",
       "      <td>...</td>\n",
       "      <td>...</td>\n",
       "      <td>...</td>\n",
       "      <td>...</td>\n",
       "      <td>...</td>\n",
       "      <td>...</td>\n",
       "    </tr>\n",
       "    <tr>\n",
       "      <th>211</th>\n",
       "      <td>2004</td>\n",
       "      <td>1991</td>\n",
       "      <td>-0.127508</td>\n",
       "      <td>-0.540600</td>\n",
       "      <td>0.059225</td>\n",
       "      <td>-0.033681</td>\n",
       "      <td>1.087485</td>\n",
       "      <td>-0.239500</td>\n",
       "    </tr>\n",
       "    <tr>\n",
       "      <th>566</th>\n",
       "      <td>1995</td>\n",
       "      <td>2013</td>\n",
       "      <td>0.351856</td>\n",
       "      <td>1.530007</td>\n",
       "      <td>0.01523</td>\n",
       "      <td>0.006316</td>\n",
       "      <td>-0.106063</td>\n",
       "      <td>0.243854</td>\n",
       "    </tr>\n",
       "    <tr>\n",
       "      <th>137</th>\n",
       "      <td>1998</td>\n",
       "      <td>1961</td>\n",
       "      <td>0.591538</td>\n",
       "      <td>0.149602</td>\n",
       "      <td>0.155537</td>\n",
       "      <td>-0.073704</td>\n",
       "      <td>1.040581</td>\n",
       "      <td>-0.382617</td>\n",
       "    </tr>\n",
       "    <tr>\n",
       "      <th>75</th>\n",
       "      <td>2011</td>\n",
       "      <td>2012</td>\n",
       "      <td>-0.846553</td>\n",
       "      <td>-0.885702</td>\n",
       "      <td>0</td>\n",
       "      <td>1</td>\n",
       "      <td>0</td>\n",
       "      <td>-0.858198</td>\n",
       "    </tr>\n",
       "    <tr>\n",
       "      <th>567</th>\n",
       "      <td>2013</td>\n",
       "      <td>1996</td>\n",
       "      <td>-0.367189</td>\n",
       "      <td>-1.403353</td>\n",
       "      <td>0.044906</td>\n",
       "      <td>0.013175</td>\n",
       "      <td>-0.127389</td>\n",
       "      <td>0.945311</td>\n",
       "    </tr>\n",
       "  </tbody>\n",
       "</table>\n",
       "<p>475 rows × 8 columns</p>\n",
       "</div>"
      ],
      "text/plain": [
       "     StartYear  EndYear    MinAge    MaxAge       All         F         M   \n",
       "239       1994     1986 -0.846553 -0.540600 -0.040629  0.039576 -0.061567  \\\n",
       "273       1976     1952 -1.565599  1.357456  0.018826  0.052075 -0.077708   \n",
       "90        1988     1994  1.550266  1.530007         0         1         0   \n",
       "47        1999     2000  0.112174  0.149602         0         0         1   \n",
       "560       2008     2012 -0.606871 -1.403353 -0.182971 -0.209193  0.151052   \n",
       "..         ...      ...       ...       ...       ...       ...       ...   \n",
       "211       2004     1991 -0.127508 -0.540600  0.059225 -0.033681  1.087485   \n",
       "566       1995     2013  0.351856  1.530007   0.01523  0.006316 -0.106063   \n",
       "137       1998     1961  0.591538  0.149602  0.155537 -0.073704  1.040581   \n",
       "75        2011     2012 -0.846553 -0.885702         0         1         0   \n",
       "567       2013     1996 -0.367189 -1.403353  0.044906  0.013175 -0.127389   \n",
       "\n",
       "     PercentObese  \n",
       "239     -1.226219  \n",
       "273      1.650355  \n",
       "90      -0.411314  \n",
       "47       0.679083  \n",
       "560      0.173747  \n",
       "..            ...  \n",
       "211     -0.239500  \n",
       "566      0.243854  \n",
       "137     -0.382617  \n",
       "75      -0.858198  \n",
       "567      0.945311  \n",
       "\n",
       "[475 rows x 8 columns]"
      ]
     },
     "execution_count": 23,
     "metadata": {},
     "output_type": "execute_result"
    }
   ],
   "source": [
    "X_train, X_test, Y_train, Y_test = train_test_split(X,Y, test_size=0.2)\n",
    "train_data = X_train.join(Y_train)\n",
    "train_data"
   ]
  },
  {
   "cell_type": "code",
   "execution_count": 24,
   "id": "9af22807-fdde-4815-b82c-2afe82577fc3",
   "metadata": {
    "tags": []
   },
   "outputs": [
    {
     "data": {
      "text/plain": [
       "array([[<Axes: title={'center': 'StartYear'}>,\n",
       "        <Axes: title={'center': 'EndYear'}>],\n",
       "       [<Axes: title={'center': 'MinAge'}>,\n",
       "        <Axes: title={'center': 'MaxAge'}>],\n",
       "       [<Axes: title={'center': 'PercentObese'}>, <Axes: >]], dtype=object)"
      ]
     },
     "execution_count": 24,
     "metadata": {},
     "output_type": "execute_result"
    },
    {
     "data": {
      "image/png": "[encoded data removed]",
      "text/plain": [
       "<Figure size 1500x800 with 6 Axes>"
      ]
     },
     "metadata": {},
     "output_type": "display_data"
    }
   ],
   "source": [
    "train_data.hist(figsize=(15,8))"
   ]
  }
 ],
 "metadata": {
  "kernelspec": {
   "display_name": "Python 3 (ipykernel)",
   "language": "python",
   "name": "python3"
  },
  "language_info": {
   "codemirror_mode": {
    "name": "ipython",
    "version": 3
   },
   "file_extension": ".py",
   "mimetype": "text/x-python",
   "name": "python",
   "nbconvert_exporter": "python",
   "pygments_lexer": "ipython3",
   "version": "3.10.11"
  }
 },
 "nbformat": 4,
 "nbformat_minor": 5
}
