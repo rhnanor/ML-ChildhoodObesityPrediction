{
 "cells": [
  {
   "cell_type": "code",
   "execution_count": 2,
   "id": "e2e1a1ca-34c0-4036-a383-1db3bcd1ba7c",
   "metadata": {
    "tags": []
   },
   "outputs": [],
   "source": [
    "import numpy as np\n",
    "import pandas as pd\n",
    "import os\n",
    "import matplotlib.pyplot as plt\n",
    "import seaborn as sns"
   ]
  },
  {
   "cell_type": "code",
   "execution_count": 3,
   "id": "6c65c6c4-f443-4d5d-aed8-7f64c5358b3a",
   "metadata": {
    "tags": []
   },
   "outputs": [],
   "source": [
    "from keras.models import Sequential\n",
    "from keras.layers import Dense\n",
    "from numpy.random import randn\n",
    "from matplotlib import pyplot\n",
    "from sklearn.model_selection import train_test_split\n",
    "from sklearn.ensemble import RandomForestClassifier\n",
    "from sklearn import metrics"
   ]
  },
  {
   "cell_type": "code",
   "execution_count": 4,
   "id": "ca05b5a5-fb9c-419e-96d4-00778104575d",
   "metadata": {},
   "outputs": [],
   "source": [
    "data = pd.read_csv(\"obesity_child_age.csv\")"
   ]
  },
  {
   "cell_type": "code",
   "execution_count": 5,
   "id": "f69a9021-f67a-49c4-bf33-5268850c00f8",
   "metadata": {
    "tags": []
   },
   "outputs": [
    {
     "data": {
      "text/plain": [
       "(99, 6)"
      ]
     },
     "execution_count": 5,
     "metadata": {},
     "output_type": "execute_result"
    }
   ],
   "source": [
    "data.shape"
   ]
  },
  {
   "cell_type": "code",
   "execution_count": 6,
   "id": "53cb866d-567c-41b9-8cda-0cbf76a3638f",
   "metadata": {
    "tags": []
   },
   "outputs": [
    {
     "data": {
      "text/html": [
       "<div>\n",
       "<style scoped>\n",
       "    .dataframe tbody tr th:only-of-type {\n",
       "        vertical-align: middle;\n",
       "    }\n",
       "\n",
       "    .dataframe tbody tr th {\n",
       "        vertical-align: top;\n",
       "    }\n",
       "\n",
       "    .dataframe thead th {\n",
       "        text-align: right;\n",
       "    }\n",
       "</style>\n",
       "<table border=\"1\" class=\"dataframe\">\n",
       "  <thead>\n",
       "    <tr style=\"text-align: right;\">\n",
       "      <th></th>\n",
       "      <th>index</th>\n",
       "      <th>Time</th>\n",
       "      <th>Age</th>\n",
       "      <th>Gender</th>\n",
       "      <th>PercentObese</th>\n",
       "      <th>SE</th>\n",
       "    </tr>\n",
       "  </thead>\n",
       "  <tbody>\n",
       "    <tr>\n",
       "      <th>94</th>\n",
       "      <td>94</td>\n",
       "      <td>[2005,2006]</td>\n",
       "      <td>[12,19]</td>\n",
       "      <td>F</td>\n",
       "      <td>17.3</td>\n",
       "      <td>-2.1</td>\n",
       "    </tr>\n",
       "    <tr>\n",
       "      <th>95</th>\n",
       "      <td>95</td>\n",
       "      <td>[2007,2008]</td>\n",
       "      <td>[12,19]</td>\n",
       "      <td>F</td>\n",
       "      <td>16.8</td>\n",
       "      <td>-2.0</td>\n",
       "    </tr>\n",
       "    <tr>\n",
       "      <th>96</th>\n",
       "      <td>96</td>\n",
       "      <td>[2009,2010]</td>\n",
       "      <td>[12,19]</td>\n",
       "      <td>F</td>\n",
       "      <td>17.1</td>\n",
       "      <td>-1.3</td>\n",
       "    </tr>\n",
       "    <tr>\n",
       "      <th>97</th>\n",
       "      <td>97</td>\n",
       "      <td>[2011,2012]</td>\n",
       "      <td>[12,19]</td>\n",
       "      <td>F</td>\n",
       "      <td>20.7</td>\n",
       "      <td>-2.0</td>\n",
       "    </tr>\n",
       "    <tr>\n",
       "      <th>98</th>\n",
       "      <td>98</td>\n",
       "      <td>[2013,2014]</td>\n",
       "      <td>[12,19]</td>\n",
       "      <td>F</td>\n",
       "      <td>21.4</td>\n",
       "      <td>-3.2</td>\n",
       "    </tr>\n",
       "  </tbody>\n",
       "</table>\n",
       "</div>"
      ],
      "text/plain": [
       "    index         Time      Age Gender  PercentObese   SE\n",
       "94     94  [2005,2006]  [12,19]      F          17.3 -2.1\n",
       "95     95  [2007,2008]  [12,19]      F          16.8 -2.0\n",
       "96     96  [2009,2010]  [12,19]      F          17.1 -1.3\n",
       "97     97  [2011,2012]  [12,19]      F          20.7 -2.0\n",
       "98     98  [2013,2014]  [12,19]      F          21.4 -3.2"
      ]
     },
     "execution_count": 6,
     "metadata": {},
     "output_type": "execute_result"
    }
   ],
   "source": [
    "data.tail()"
   ]
  },
  {
   "cell_type": "code",
   "execution_count": 7,
   "id": "af935fea-afae-42eb-8d62-66292f3db649",
   "metadata": {
    "tags": []
   },
   "outputs": [
    {
     "data": {
      "text/plain": [
       "Index(['index', 'Time', 'Age', 'Gender', 'PercentObese', 'SE'], dtype='object')"
      ]
     },
     "execution_count": 7,
     "metadata": {},
     "output_type": "execute_result"
    }
   ],
   "source": [
    "data.columns"
   ]
  },
  {
   "cell_type": "code",
   "execution_count": 8,
   "id": "dfd63771-299b-42b9-8467-218abdb52897",
   "metadata": {
    "tags": []
   },
   "outputs": [
    {
     "name": "stdout",
     "output_type": "stream",
     "text": [
      "<class 'pandas.core.frame.DataFrame'>\n",
      "RangeIndex: 99 entries, 0 to 98\n",
      "Data columns (total 6 columns):\n",
      " #   Column        Non-Null Count  Dtype  \n",
      "---  ------        --------------  -----  \n",
      " 0   index         99 non-null     int64  \n",
      " 1   Time          99 non-null     object \n",
      " 2   Age           99 non-null     object \n",
      " 3   Gender        99 non-null     object \n",
      " 4   PercentObese  99 non-null     float64\n",
      " 5   SE            99 non-null     float64\n",
      "dtypes: float64(2), int64(1), object(3)\n",
      "memory usage: 4.8+ KB\n"
     ]
    }
   ],
   "source": [
    "data.info()"
   ]
  },
  {
   "cell_type": "code",
   "execution_count": 9,
   "id": "1808d5c6-1a47-43df-b783-01071c34e34a",
   "metadata": {
    "tags": []
   },
   "outputs": [
    {
     "data": {
      "text/plain": [
       "index           0\n",
       "Time            0\n",
       "Age             0\n",
       "Gender          0\n",
       "PercentObese    0\n",
       "SE              0\n",
       "dtype: int64"
      ]
     },
     "execution_count": 9,
     "metadata": {},
     "output_type": "execute_result"
    }
   ],
   "source": [
    "data.isnull().sum()"
   ]
  },
  {
   "cell_type": "code",
   "execution_count": 10,
   "id": "b8ba997a-b7bf-49ab-bd56-a24201d66325",
   "metadata": {
    "tags": []
   },
   "outputs": [
    {
     "data": {
      "text/plain": [
       "0"
      ]
     },
     "execution_count": 10,
     "metadata": {},
     "output_type": "execute_result"
    }
   ],
   "source": [
    "data.duplicated().sum()"
   ]
  },
  {
   "cell_type": "code",
   "execution_count": 11,
   "id": "3304128b-416a-4b7b-a1e7-cb8f59a6d82b",
   "metadata": {
    "tags": []
   },
   "outputs": [],
   "source": [
    "data1 = data"
   ]
  },
  {
   "cell_type": "code",
   "execution_count": 12,
   "id": "89510d00-eb3e-4bff-b9d1-f8344f7601ac",
   "metadata": {
    "tags": []
   },
   "outputs": [],
   "source": [
    "#delete index row\n",
    "data1.drop('index', axis=1, inplace=True)"
   ]
  },
  {
   "cell_type": "code",
   "execution_count": 13,
   "id": "4f9a2c8c-d109-4046-b749-3845d117f12e",
   "metadata": {
    "tags": []
   },
   "outputs": [],
   "source": [
    "#separating Time into StartYear and EndYear\n",
    "#separating Age into MinAge and MaxAge\n",
    "from sklearn.preprocessing import StandardScaler\n",
    "# data['Time'] = data['Time'].apply(lambda x: [int(year) for year in x.strip('[]').split(',')])\n",
    "# data['StartYear'] = data['Time'].apply(lambda x: x[0])\n",
    "# data['EndYear'] = data['Time'].apply(lambda x: x[1])\n",
    "# data.drop('Time', axis=1, inplace=True)\n",
    "\n",
    "data1['StartYear'] = data1['Time'].apply(lambda x: int(x.strip('[]').split(',')[0]))\n",
    "data1['EndYear'] = data1['Time'].apply(lambda x: int(x.strip('[]').split(',')[1]))\n",
    "data1.drop('Time', axis=1, inplace=True)\n",
    "\n",
    "# 1. Convert string representations of age ranges to separate minimum and maximum ages\n",
    "# Extract minimum and maximum ages from the list\n",
    "data1.Age = data1.Age.str.strip('[]')\n",
    "data1[['MinAge', 'MaxAge']] = data1['Age'].str.extract(\"(\\d+),(\\d+)\", expand=True).astype(int)\n",
    "data1.drop('Age', axis=1, inplace=True)"
   ]
  },
  {
   "cell_type": "code",
   "execution_count": 14,
   "id": "9ff03214-8933-4fce-9669-22a1ea53991c",
   "metadata": {
    "tags": []
   },
   "outputs": [],
   "source": [
    "#get dummies for gender column\n",
    "gender = pd.get_dummies(data1.Gender)\n",
    "data1 = data1.join(gender)\n",
    "data1.drop('Gender', axis=1, inplace=True)\n",
    "data1 = data1.replace(to_replace = [True,False],value = ['1','0'])"
   ]
  },
  {
   "cell_type": "code",
   "execution_count": 15,
   "id": "7b2e0ddb-ddc6-444a-8a47-de3f3bfd7fc5",
   "metadata": {
    "tags": []
   },
   "outputs": [
    {
     "data": {
      "text/html": [
       "<div>\n",
       "<style scoped>\n",
       "    .dataframe tbody tr th:only-of-type {\n",
       "        vertical-align: middle;\n",
       "    }\n",
       "\n",
       "    .dataframe tbody tr th {\n",
       "        vertical-align: top;\n",
       "    }\n",
       "\n",
       "    .dataframe thead th {\n",
       "        text-align: right;\n",
       "    }\n",
       "</style>\n",
       "<table border=\"1\" class=\"dataframe\">\n",
       "  <thead>\n",
       "    <tr style=\"text-align: right;\">\n",
       "      <th></th>\n",
       "      <th>PercentObese</th>\n",
       "      <th>SE</th>\n",
       "      <th>StartYear</th>\n",
       "      <th>EndYear</th>\n",
       "      <th>MinAge</th>\n",
       "      <th>MaxAge</th>\n",
       "      <th>All</th>\n",
       "      <th>F</th>\n",
       "      <th>M</th>\n",
       "    </tr>\n",
       "  </thead>\n",
       "  <tbody>\n",
       "    <tr>\n",
       "      <th>0</th>\n",
       "      <td>5.0</td>\n",
       "      <td>-0.6</td>\n",
       "      <td>1971</td>\n",
       "      <td>1974</td>\n",
       "      <td>2</td>\n",
       "      <td>5</td>\n",
       "      <td>1</td>\n",
       "      <td>0</td>\n",
       "      <td>0</td>\n",
       "    </tr>\n",
       "    <tr>\n",
       "      <th>1</th>\n",
       "      <td>5.0</td>\n",
       "      <td>-0.6</td>\n",
       "      <td>1976</td>\n",
       "      <td>1980</td>\n",
       "      <td>2</td>\n",
       "      <td>5</td>\n",
       "      <td>1</td>\n",
       "      <td>0</td>\n",
       "      <td>0</td>\n",
       "    </tr>\n",
       "    <tr>\n",
       "      <th>2</th>\n",
       "      <td>7.2</td>\n",
       "      <td>-0.7</td>\n",
       "      <td>1988</td>\n",
       "      <td>1994</td>\n",
       "      <td>2</td>\n",
       "      <td>5</td>\n",
       "      <td>1</td>\n",
       "      <td>0</td>\n",
       "      <td>0</td>\n",
       "    </tr>\n",
       "    <tr>\n",
       "      <th>3</th>\n",
       "      <td>10.3</td>\n",
       "      <td>-1.7</td>\n",
       "      <td>1999</td>\n",
       "      <td>2000</td>\n",
       "      <td>2</td>\n",
       "      <td>5</td>\n",
       "      <td>1</td>\n",
       "      <td>0</td>\n",
       "      <td>0</td>\n",
       "    </tr>\n",
       "    <tr>\n",
       "      <th>4</th>\n",
       "      <td>10.6</td>\n",
       "      <td>-1.8</td>\n",
       "      <td>2001</td>\n",
       "      <td>2002</td>\n",
       "      <td>2</td>\n",
       "      <td>5</td>\n",
       "      <td>1</td>\n",
       "      <td>0</td>\n",
       "      <td>0</td>\n",
       "    </tr>\n",
       "    <tr>\n",
       "      <th>...</th>\n",
       "      <td>...</td>\n",
       "      <td>...</td>\n",
       "      <td>...</td>\n",
       "      <td>...</td>\n",
       "      <td>...</td>\n",
       "      <td>...</td>\n",
       "      <td>...</td>\n",
       "      <td>...</td>\n",
       "      <td>...</td>\n",
       "    </tr>\n",
       "    <tr>\n",
       "      <th>94</th>\n",
       "      <td>17.3</td>\n",
       "      <td>-2.1</td>\n",
       "      <td>2005</td>\n",
       "      <td>2006</td>\n",
       "      <td>12</td>\n",
       "      <td>19</td>\n",
       "      <td>0</td>\n",
       "      <td>1</td>\n",
       "      <td>0</td>\n",
       "    </tr>\n",
       "    <tr>\n",
       "      <th>95</th>\n",
       "      <td>16.8</td>\n",
       "      <td>-2.0</td>\n",
       "      <td>2007</td>\n",
       "      <td>2008</td>\n",
       "      <td>12</td>\n",
       "      <td>19</td>\n",
       "      <td>0</td>\n",
       "      <td>1</td>\n",
       "      <td>0</td>\n",
       "    </tr>\n",
       "    <tr>\n",
       "      <th>96</th>\n",
       "      <td>17.1</td>\n",
       "      <td>-1.3</td>\n",
       "      <td>2009</td>\n",
       "      <td>2010</td>\n",
       "      <td>12</td>\n",
       "      <td>19</td>\n",
       "      <td>0</td>\n",
       "      <td>1</td>\n",
       "      <td>0</td>\n",
       "    </tr>\n",
       "    <tr>\n",
       "      <th>97</th>\n",
       "      <td>20.7</td>\n",
       "      <td>-2.0</td>\n",
       "      <td>2011</td>\n",
       "      <td>2012</td>\n",
       "      <td>12</td>\n",
       "      <td>19</td>\n",
       "      <td>0</td>\n",
       "      <td>1</td>\n",
       "      <td>0</td>\n",
       "    </tr>\n",
       "    <tr>\n",
       "      <th>98</th>\n",
       "      <td>21.4</td>\n",
       "      <td>-3.2</td>\n",
       "      <td>2013</td>\n",
       "      <td>2014</td>\n",
       "      <td>12</td>\n",
       "      <td>19</td>\n",
       "      <td>0</td>\n",
       "      <td>1</td>\n",
       "      <td>0</td>\n",
       "    </tr>\n",
       "  </tbody>\n",
       "</table>\n",
       "<p>99 rows × 9 columns</p>\n",
       "</div>"
      ],
      "text/plain": [
       "    PercentObese   SE  StartYear  EndYear  MinAge  MaxAge  All  F  M\n",
       "0            5.0 -0.6       1971     1974       2       5    1  0  0\n",
       "1            5.0 -0.6       1976     1980       2       5    1  0  0\n",
       "2            7.2 -0.7       1988     1994       2       5    1  0  0\n",
       "3           10.3 -1.7       1999     2000       2       5    1  0  0\n",
       "4           10.6 -1.8       2001     2002       2       5    1  0  0\n",
       "..           ...  ...        ...      ...     ...     ...  ... .. ..\n",
       "94          17.3 -2.1       2005     2006      12      19    0  1  0\n",
       "95          16.8 -2.0       2007     2008      12      19    0  1  0\n",
       "96          17.1 -1.3       2009     2010      12      19    0  1  0\n",
       "97          20.7 -2.0       2011     2012      12      19    0  1  0\n",
       "98          21.4 -3.2       2013     2014      12      19    0  1  0\n",
       "\n",
       "[99 rows x 9 columns]"
      ]
     },
     "execution_count": 15,
     "metadata": {},
     "output_type": "execute_result"
    }
   ],
   "source": [
    "data1"
   ]
  },
  {
   "cell_type": "code",
   "execution_count": 16,
   "id": "5299171d-8011-4e34-aba7-9188338c60b2",
   "metadata": {},
   "outputs": [
    {
     "name": "stdout",
     "output_type": "stream",
     "text": [
      "<class 'pandas.core.frame.DataFrame'>\n",
      "RangeIndex: 99 entries, 0 to 98\n",
      "Data columns (total 9 columns):\n",
      " #   Column        Non-Null Count  Dtype  \n",
      "---  ------        --------------  -----  \n",
      " 0   PercentObese  99 non-null     float64\n",
      " 1   SE            99 non-null     float64\n",
      " 2   StartYear     99 non-null     int64  \n",
      " 3   EndYear       99 non-null     int64  \n",
      " 4   MinAge        99 non-null     int32  \n",
      " 5   MaxAge        99 non-null     int32  \n",
      " 6   All           99 non-null     uint8  \n",
      " 7   F             99 non-null     uint8  \n",
      " 8   M             99 non-null     uint8  \n",
      "dtypes: float64(2), int32(2), int64(2), uint8(3)\n",
      "memory usage: 4.3 KB\n"
     ]
    }
   ],
   "source": [
    "data1.info()"
   ]
  },
  {
   "cell_type": "code",
   "execution_count": 17,
   "id": "6e726d35-c448-4204-8a94-6a6220d3f54e",
   "metadata": {},
   "outputs": [],
   "source": [
    "data1['M']=data1['M'].astype(str).astype(int)\n",
    "data1['F']=data1['F'].astype(str).astype(int)\n",
    "data1['All']=data1['All'].astype(str).astype(int)"
   ]
  },
  {
   "cell_type": "code",
   "execution_count": 18,
   "id": "431b9abb-16ed-491f-b30e-042e9552829d",
   "metadata": {},
   "outputs": [
    {
     "name": "stdout",
     "output_type": "stream",
     "text": [
      "<class 'pandas.core.frame.DataFrame'>\n",
      "RangeIndex: 99 entries, 0 to 98\n",
      "Data columns (total 9 columns):\n",
      " #   Column        Non-Null Count  Dtype  \n",
      "---  ------        --------------  -----  \n",
      " 0   PercentObese  99 non-null     float64\n",
      " 1   SE            99 non-null     float64\n",
      " 2   StartYear     99 non-null     int64  \n",
      " 3   EndYear       99 non-null     int64  \n",
      " 4   MinAge        99 non-null     int32  \n",
      " 5   MaxAge        99 non-null     int32  \n",
      " 6   All           99 non-null     int32  \n",
      " 7   F             99 non-null     int32  \n",
      " 8   M             99 non-null     int32  \n",
      "dtypes: float64(2), int32(5), int64(2)\n",
      "memory usage: 5.2 KB\n"
     ]
    }
   ],
   "source": [
    "data1.info()"
   ]
  },
  {
   "cell_type": "code",
   "execution_count": 19,
   "id": "b187cbf5-0789-41a9-8b12-8892606d3679",
   "metadata": {},
   "outputs": [
    {
     "data": {
      "text/html": [
       "<div>\n",
       "<style scoped>\n",
       "    .dataframe tbody tr th:only-of-type {\n",
       "        vertical-align: middle;\n",
       "    }\n",
       "\n",
       "    .dataframe tbody tr th {\n",
       "        vertical-align: top;\n",
       "    }\n",
       "\n",
       "    .dataframe thead th {\n",
       "        text-align: right;\n",
       "    }\n",
       "</style>\n",
       "<table border=\"1\" class=\"dataframe\">\n",
       "  <thead>\n",
       "    <tr style=\"text-align: right;\">\n",
       "      <th></th>\n",
       "      <th>PercentObese</th>\n",
       "      <th>SE</th>\n",
       "      <th>StartYear</th>\n",
       "      <th>EndYear</th>\n",
       "      <th>MinAge</th>\n",
       "      <th>MaxAge</th>\n",
       "      <th>All</th>\n",
       "      <th>F</th>\n",
       "      <th>M</th>\n",
       "    </tr>\n",
       "  </thead>\n",
       "  <tbody>\n",
       "    <tr>\n",
       "      <th>0</th>\n",
       "      <td>5.0</td>\n",
       "      <td>-0.6</td>\n",
       "      <td>1971</td>\n",
       "      <td>1974</td>\n",
       "      <td>2</td>\n",
       "      <td>5</td>\n",
       "      <td>1</td>\n",
       "      <td>0</td>\n",
       "      <td>0</td>\n",
       "    </tr>\n",
       "    <tr>\n",
       "      <th>1</th>\n",
       "      <td>5.0</td>\n",
       "      <td>-0.6</td>\n",
       "      <td>1976</td>\n",
       "      <td>1980</td>\n",
       "      <td>2</td>\n",
       "      <td>5</td>\n",
       "      <td>1</td>\n",
       "      <td>0</td>\n",
       "      <td>0</td>\n",
       "    </tr>\n",
       "    <tr>\n",
       "      <th>2</th>\n",
       "      <td>7.2</td>\n",
       "      <td>-0.7</td>\n",
       "      <td>1988</td>\n",
       "      <td>1994</td>\n",
       "      <td>2</td>\n",
       "      <td>5</td>\n",
       "      <td>1</td>\n",
       "      <td>0</td>\n",
       "      <td>0</td>\n",
       "    </tr>\n",
       "    <tr>\n",
       "      <th>3</th>\n",
       "      <td>10.3</td>\n",
       "      <td>-1.7</td>\n",
       "      <td>1999</td>\n",
       "      <td>2000</td>\n",
       "      <td>2</td>\n",
       "      <td>5</td>\n",
       "      <td>1</td>\n",
       "      <td>0</td>\n",
       "      <td>0</td>\n",
       "    </tr>\n",
       "    <tr>\n",
       "      <th>4</th>\n",
       "      <td>10.6</td>\n",
       "      <td>-1.8</td>\n",
       "      <td>2001</td>\n",
       "      <td>2002</td>\n",
       "      <td>2</td>\n",
       "      <td>5</td>\n",
       "      <td>1</td>\n",
       "      <td>0</td>\n",
       "      <td>0</td>\n",
       "    </tr>\n",
       "    <tr>\n",
       "      <th>...</th>\n",
       "      <td>...</td>\n",
       "      <td>...</td>\n",
       "      <td>...</td>\n",
       "      <td>...</td>\n",
       "      <td>...</td>\n",
       "      <td>...</td>\n",
       "      <td>...</td>\n",
       "      <td>...</td>\n",
       "      <td>...</td>\n",
       "    </tr>\n",
       "    <tr>\n",
       "      <th>94</th>\n",
       "      <td>17.3</td>\n",
       "      <td>-2.1</td>\n",
       "      <td>2005</td>\n",
       "      <td>2006</td>\n",
       "      <td>12</td>\n",
       "      <td>19</td>\n",
       "      <td>0</td>\n",
       "      <td>1</td>\n",
       "      <td>0</td>\n",
       "    </tr>\n",
       "    <tr>\n",
       "      <th>95</th>\n",
       "      <td>16.8</td>\n",
       "      <td>-2.0</td>\n",
       "      <td>2007</td>\n",
       "      <td>2008</td>\n",
       "      <td>12</td>\n",
       "      <td>19</td>\n",
       "      <td>0</td>\n",
       "      <td>1</td>\n",
       "      <td>0</td>\n",
       "    </tr>\n",
       "    <tr>\n",
       "      <th>96</th>\n",
       "      <td>17.1</td>\n",
       "      <td>-1.3</td>\n",
       "      <td>2009</td>\n",
       "      <td>2010</td>\n",
       "      <td>12</td>\n",
       "      <td>19</td>\n",
       "      <td>0</td>\n",
       "      <td>1</td>\n",
       "      <td>0</td>\n",
       "    </tr>\n",
       "    <tr>\n",
       "      <th>97</th>\n",
       "      <td>20.7</td>\n",
       "      <td>-2.0</td>\n",
       "      <td>2011</td>\n",
       "      <td>2012</td>\n",
       "      <td>12</td>\n",
       "      <td>19</td>\n",
       "      <td>0</td>\n",
       "      <td>1</td>\n",
       "      <td>0</td>\n",
       "    </tr>\n",
       "    <tr>\n",
       "      <th>98</th>\n",
       "      <td>21.4</td>\n",
       "      <td>-3.2</td>\n",
       "      <td>2013</td>\n",
       "      <td>2014</td>\n",
       "      <td>12</td>\n",
       "      <td>19</td>\n",
       "      <td>0</td>\n",
       "      <td>1</td>\n",
       "      <td>0</td>\n",
       "    </tr>\n",
       "  </tbody>\n",
       "</table>\n",
       "<p>99 rows × 9 columns</p>\n",
       "</div>"
      ],
      "text/plain": [
       "    PercentObese   SE  StartYear  EndYear  MinAge  MaxAge  All  F  M\n",
       "0            5.0 -0.6       1971     1974       2       5    1  0  0\n",
       "1            5.0 -0.6       1976     1980       2       5    1  0  0\n",
       "2            7.2 -0.7       1988     1994       2       5    1  0  0\n",
       "3           10.3 -1.7       1999     2000       2       5    1  0  0\n",
       "4           10.6 -1.8       2001     2002       2       5    1  0  0\n",
       "..           ...  ...        ...      ...     ...     ...  ... .. ..\n",
       "94          17.3 -2.1       2005     2006      12      19    0  1  0\n",
       "95          16.8 -2.0       2007     2008      12      19    0  1  0\n",
       "96          17.1 -1.3       2009     2010      12      19    0  1  0\n",
       "97          20.7 -2.0       2011     2012      12      19    0  1  0\n",
       "98          21.4 -3.2       2013     2014      12      19    0  1  0\n",
       "\n",
       "[99 rows x 9 columns]"
      ]
     },
     "execution_count": 19,
     "metadata": {},
     "output_type": "execute_result"
    }
   ],
   "source": [
    "data1"
   ]
  },
  {
   "cell_type": "code",
   "execution_count": 20,
   "id": "677bddbe-4819-42e3-8f5e-4a61ee6a4cb4",
   "metadata": {
    "tags": []
   },
   "outputs": [],
   "source": [
    "from ctgan import CTGAN\n",
    "\n",
    "# initialize the CTGAN model\n",
    "model = CTGAN()\n",
    "\n",
    "# fit the model to the original data\n",
    "model.fit(data1)\n",
    "\n",
    "# generate synthetic data\n",
    "synthetic_data = model.sample(len(data1))\n",
    "synthetic_data1 = model.sample(len(data1))\n",
    "synthetic_data2 = model.sample(len(data1))\n",
    "synthetic_data3 = model.sample(len(data1))\n",
    "synthetic_data4 = model.sample(len(data1))\n",
    "\n",
    "# save the synthetic data to a CSV file\n",
    "synthetic_data.to_csv('synthetic_data.csv', index=False)\n",
    "synthetic_data1.to_csv('synthetic_data1.csv', index=False)\n",
    "synthetic_data2.to_csv('synthetic_data2.csv', index=False)\n",
    "synthetic_data3.to_csv('synthetic_data3.csv', index=False)\n",
    "synthetic_data4.to_csv('synthetic_data4.csv', index=False)"
   ]
  },
  {
   "cell_type": "code",
   "execution_count": 21,
   "id": "037a0a56-0f0f-46b1-8a3d-b122ed63a60e",
   "metadata": {
    "tags": []
   },
   "outputs": [
    {
     "data": {
      "text/html": [
       "<div>\n",
       "<style scoped>\n",
       "    .dataframe tbody tr th:only-of-type {\n",
       "        vertical-align: middle;\n",
       "    }\n",
       "\n",
       "    .dataframe tbody tr th {\n",
       "        vertical-align: top;\n",
       "    }\n",
       "\n",
       "    .dataframe thead th {\n",
       "        text-align: right;\n",
       "    }\n",
       "</style>\n",
       "<table border=\"1\" class=\"dataframe\">\n",
       "  <thead>\n",
       "    <tr style=\"text-align: right;\">\n",
       "      <th></th>\n",
       "      <th>PercentObese</th>\n",
       "      <th>SE</th>\n",
       "      <th>StartYear</th>\n",
       "      <th>EndYear</th>\n",
       "      <th>MinAge</th>\n",
       "      <th>MaxAge</th>\n",
       "      <th>All</th>\n",
       "      <th>F</th>\n",
       "      <th>M</th>\n",
       "    </tr>\n",
       "  </thead>\n",
       "  <tbody>\n",
       "    <tr>\n",
       "      <th>0</th>\n",
       "      <td>18.853202</td>\n",
       "      <td>-1.770603</td>\n",
       "      <td>2008</td>\n",
       "      <td>1993</td>\n",
       "      <td>9</td>\n",
       "      <td>17</td>\n",
       "      <td>0</td>\n",
       "      <td>0</td>\n",
       "      <td>1</td>\n",
       "    </tr>\n",
       "    <tr>\n",
       "      <th>1</th>\n",
       "      <td>13.486856</td>\n",
       "      <td>-1.325561</td>\n",
       "      <td>2013</td>\n",
       "      <td>1995</td>\n",
       "      <td>1</td>\n",
       "      <td>11</td>\n",
       "      <td>1</td>\n",
       "      <td>1</td>\n",
       "      <td>0</td>\n",
       "    </tr>\n",
       "    <tr>\n",
       "      <th>2</th>\n",
       "      <td>19.126320</td>\n",
       "      <td>-1.591845</td>\n",
       "      <td>2006</td>\n",
       "      <td>1989</td>\n",
       "      <td>-1</td>\n",
       "      <td>3</td>\n",
       "      <td>0</td>\n",
       "      <td>1</td>\n",
       "      <td>0</td>\n",
       "    </tr>\n",
       "    <tr>\n",
       "      <th>3</th>\n",
       "      <td>13.221212</td>\n",
       "      <td>-0.813009</td>\n",
       "      <td>2008</td>\n",
       "      <td>1980</td>\n",
       "      <td>0</td>\n",
       "      <td>5</td>\n",
       "      <td>1</td>\n",
       "      <td>1</td>\n",
       "      <td>1</td>\n",
       "    </tr>\n",
       "    <tr>\n",
       "      <th>4</th>\n",
       "      <td>17.482866</td>\n",
       "      <td>-0.397402</td>\n",
       "      <td>1968</td>\n",
       "      <td>2004</td>\n",
       "      <td>-1</td>\n",
       "      <td>2</td>\n",
       "      <td>0</td>\n",
       "      <td>1</td>\n",
       "      <td>1</td>\n",
       "    </tr>\n",
       "  </tbody>\n",
       "</table>\n",
       "</div>"
      ],
      "text/plain": [
       "   PercentObese        SE  StartYear  EndYear  MinAge  MaxAge  All  F  M\n",
       "0     18.853202 -1.770603       2008     1993       9      17    0  0  1\n",
       "1     13.486856 -1.325561       2013     1995       1      11    1  1  0\n",
       "2     19.126320 -1.591845       2006     1989      -1       3    0  1  0\n",
       "3     13.221212 -0.813009       2008     1980       0       5    1  1  1\n",
       "4     17.482866 -0.397402       1968     2004      -1       2    0  1  1"
      ]
     },
     "execution_count": 21,
     "metadata": {},
     "output_type": "execute_result"
    }
   ],
   "source": [
    "synthetic_data.head()"
   ]
  },
  {
   "cell_type": "code",
   "execution_count": 22,
   "id": "db3ab552-4259-49ea-bef3-f045dd7c2f76",
   "metadata": {
    "tags": []
   },
   "outputs": [],
   "source": [
    "data2 = pd.concat([data1,synthetic_data], ignore_index=True)\n",
    "data2 = pd.concat([data2,synthetic_data1], ignore_index=True)\n",
    "data2 = pd.concat([data2,synthetic_data2], ignore_index=True)\n",
    "data2 = pd.concat([data2,synthetic_data3], ignore_index=True)\n",
    "data2 = pd.concat([data2,synthetic_data4], ignore_index=True)"
   ]
  },
  {
   "cell_type": "code",
   "execution_count": 23,
   "id": "4515dc75-5245-4467-8af3-7ef89816843f",
   "metadata": {
    "tags": []
   },
   "outputs": [
    {
     "data": {
      "text/html": [
       "<div>\n",
       "<style scoped>\n",
       "    .dataframe tbody tr th:only-of-type {\n",
       "        vertical-align: middle;\n",
       "    }\n",
       "\n",
       "    .dataframe tbody tr th {\n",
       "        vertical-align: top;\n",
       "    }\n",
       "\n",
       "    .dataframe thead th {\n",
       "        text-align: right;\n",
       "    }\n",
       "</style>\n",
       "<table border=\"1\" class=\"dataframe\">\n",
       "  <thead>\n",
       "    <tr style=\"text-align: right;\">\n",
       "      <th></th>\n",
       "      <th>PercentObese</th>\n",
       "      <th>SE</th>\n",
       "      <th>StartYear</th>\n",
       "      <th>EndYear</th>\n",
       "      <th>MinAge</th>\n",
       "      <th>MaxAge</th>\n",
       "      <th>All</th>\n",
       "      <th>F</th>\n",
       "      <th>M</th>\n",
       "    </tr>\n",
       "  </thead>\n",
       "  <tbody>\n",
       "    <tr>\n",
       "      <th>0</th>\n",
       "      <td>5.000000</td>\n",
       "      <td>-0.600000</td>\n",
       "      <td>1971</td>\n",
       "      <td>1974</td>\n",
       "      <td>2</td>\n",
       "      <td>5</td>\n",
       "      <td>1</td>\n",
       "      <td>0</td>\n",
       "      <td>0</td>\n",
       "    </tr>\n",
       "    <tr>\n",
       "      <th>1</th>\n",
       "      <td>5.000000</td>\n",
       "      <td>-0.600000</td>\n",
       "      <td>1976</td>\n",
       "      <td>1980</td>\n",
       "      <td>2</td>\n",
       "      <td>5</td>\n",
       "      <td>1</td>\n",
       "      <td>0</td>\n",
       "      <td>0</td>\n",
       "    </tr>\n",
       "    <tr>\n",
       "      <th>2</th>\n",
       "      <td>7.200000</td>\n",
       "      <td>-0.700000</td>\n",
       "      <td>1988</td>\n",
       "      <td>1994</td>\n",
       "      <td>2</td>\n",
       "      <td>5</td>\n",
       "      <td>1</td>\n",
       "      <td>0</td>\n",
       "      <td>0</td>\n",
       "    </tr>\n",
       "    <tr>\n",
       "      <th>3</th>\n",
       "      <td>10.300000</td>\n",
       "      <td>-1.700000</td>\n",
       "      <td>1999</td>\n",
       "      <td>2000</td>\n",
       "      <td>2</td>\n",
       "      <td>5</td>\n",
       "      <td>1</td>\n",
       "      <td>0</td>\n",
       "      <td>0</td>\n",
       "    </tr>\n",
       "    <tr>\n",
       "      <th>4</th>\n",
       "      <td>10.600000</td>\n",
       "      <td>-1.800000</td>\n",
       "      <td>2001</td>\n",
       "      <td>2002</td>\n",
       "      <td>2</td>\n",
       "      <td>5</td>\n",
       "      <td>1</td>\n",
       "      <td>0</td>\n",
       "      <td>0</td>\n",
       "    </tr>\n",
       "    <tr>\n",
       "      <th>...</th>\n",
       "      <td>...</td>\n",
       "      <td>...</td>\n",
       "      <td>...</td>\n",
       "      <td>...</td>\n",
       "      <td>...</td>\n",
       "      <td>...</td>\n",
       "      <td>...</td>\n",
       "      <td>...</td>\n",
       "      <td>...</td>\n",
       "    </tr>\n",
       "    <tr>\n",
       "      <th>589</th>\n",
       "      <td>15.217760</td>\n",
       "      <td>-1.562398</td>\n",
       "      <td>2003</td>\n",
       "      <td>1996</td>\n",
       "      <td>2</td>\n",
       "      <td>16</td>\n",
       "      <td>1</td>\n",
       "      <td>1</td>\n",
       "      <td>1</td>\n",
       "    </tr>\n",
       "    <tr>\n",
       "      <th>590</th>\n",
       "      <td>18.386584</td>\n",
       "      <td>-1.476188</td>\n",
       "      <td>2000</td>\n",
       "      <td>2005</td>\n",
       "      <td>5</td>\n",
       "      <td>16</td>\n",
       "      <td>0</td>\n",
       "      <td>0</td>\n",
       "      <td>0</td>\n",
       "    </tr>\n",
       "    <tr>\n",
       "      <th>591</th>\n",
       "      <td>15.801822</td>\n",
       "      <td>-2.083308</td>\n",
       "      <td>2012</td>\n",
       "      <td>1996</td>\n",
       "      <td>4</td>\n",
       "      <td>9</td>\n",
       "      <td>0</td>\n",
       "      <td>0</td>\n",
       "      <td>0</td>\n",
       "    </tr>\n",
       "    <tr>\n",
       "      <th>592</th>\n",
       "      <td>3.581555</td>\n",
       "      <td>-2.621208</td>\n",
       "      <td>2015</td>\n",
       "      <td>1997</td>\n",
       "      <td>4</td>\n",
       "      <td>10</td>\n",
       "      <td>1</td>\n",
       "      <td>1</td>\n",
       "      <td>0</td>\n",
       "    </tr>\n",
       "    <tr>\n",
       "      <th>593</th>\n",
       "      <td>17.219343</td>\n",
       "      <td>-0.865174</td>\n",
       "      <td>2000</td>\n",
       "      <td>2003</td>\n",
       "      <td>5</td>\n",
       "      <td>14</td>\n",
       "      <td>0</td>\n",
       "      <td>1</td>\n",
       "      <td>0</td>\n",
       "    </tr>\n",
       "  </tbody>\n",
       "</table>\n",
       "<p>594 rows × 9 columns</p>\n",
       "</div>"
      ],
      "text/plain": [
       "     PercentObese        SE  StartYear  EndYear  MinAge  MaxAge  All  F  M\n",
       "0        5.000000 -0.600000       1971     1974       2       5    1  0  0\n",
       "1        5.000000 -0.600000       1976     1980       2       5    1  0  0\n",
       "2        7.200000 -0.700000       1988     1994       2       5    1  0  0\n",
       "3       10.300000 -1.700000       1999     2000       2       5    1  0  0\n",
       "4       10.600000 -1.800000       2001     2002       2       5    1  0  0\n",
       "..            ...       ...        ...      ...     ...     ...  ... .. ..\n",
       "589     15.217760 -1.562398       2003     1996       2      16    1  1  1\n",
       "590     18.386584 -1.476188       2000     2005       5      16    0  0  0\n",
       "591     15.801822 -2.083308       2012     1996       4       9    0  0  0\n",
       "592      3.581555 -2.621208       2015     1997       4      10    1  1  0\n",
       "593     17.219343 -0.865174       2000     2003       5      14    0  1  0\n",
       "\n",
       "[594 rows x 9 columns]"
      ]
     },
     "execution_count": 23,
     "metadata": {},
     "output_type": "execute_result"
    }
   ],
   "source": [
    "data2"
   ]
  },
  {
   "cell_type": "code",
   "execution_count": 24,
   "id": "b3d2984d-fde4-4cb2-8b37-e308a1ef1893",
   "metadata": {
    "tags": []
   },
   "outputs": [],
   "source": [
    "data2.to_csv('data2.csv', index=False)"
   ]
  },
  {
   "cell_type": "code",
   "execution_count": 25,
   "id": "df3aa507-ccd4-4e5e-a97b-d64a29afccda",
   "metadata": {
    "tags": []
   },
   "outputs": [
    {
     "data": {
      "text/plain": [
       "<Axes: >"
      ]
     },
     "execution_count": 25,
     "metadata": {},
     "output_type": "execute_result"
    },
    {
     "data": {
      "image/png": "[encoded data removed]",
      "text/plain": [
       "<Figure size 1500x1000 with 2 Axes>"
      ]
     },
     "metadata": {},
     "output_type": "display_data"
    }
   ],
   "source": [
    "#correlation map\n",
    "plt.figure(figsize=(15,10))\n",
    "sns.heatmap(data2.corr(), annot = True)"
   ]
  },
  {
   "cell_type": "code",
   "execution_count": 26,
   "id": "ae74ba52-3cf8-4770-8d9f-882e7df83e11",
   "metadata": {
    "tags": []
   },
   "outputs": [],
   "source": [
    "# 3. Standardize the continuous-valued features 'Age' and 'PercentObese'\n",
    "continuous_features = ['PercentObese', 'MinAge', 'MaxAge']\n",
    "scaler = StandardScaler()\n",
    "data2[continuous_features] = scaler.fit_transform(data2[continuous_features])"
   ]
  },
  {
   "cell_type": "code",
   "execution_count": 27,
   "id": "af811dd8-4329-4a40-bb49-19eea8f888ac",
   "metadata": {
    "tags": []
   },
   "outputs": [],
   "source": [
    "from sklearn.model_selection import train_test_split\n",
    "\n",
    "X=data2.drop(['PercentObese','SE'],axis=1)\n",
    "Y=data2['PercentObese']\n"
   ]
  },
  {
   "cell_type": "code",
   "execution_count": 28,
   "id": "74873e6a-eb59-40e7-86dc-a14a771db742",
   "metadata": {
    "tags": []
   },
   "outputs": [
    {
     "data": {
      "text/html": [
       "<div>\n",
       "<style scoped>\n",
       "    .dataframe tbody tr th:only-of-type {\n",
       "        vertical-align: middle;\n",
       "    }\n",
       "\n",
       "    .dataframe tbody tr th {\n",
       "        vertical-align: top;\n",
       "    }\n",
       "\n",
       "    .dataframe thead th {\n",
       "        text-align: right;\n",
       "    }\n",
       "</style>\n",
       "<table border=\"1\" class=\"dataframe\">\n",
       "  <thead>\n",
       "    <tr style=\"text-align: right;\">\n",
       "      <th></th>\n",
       "      <th>StartYear</th>\n",
       "      <th>EndYear</th>\n",
       "      <th>MinAge</th>\n",
       "      <th>MaxAge</th>\n",
       "      <th>All</th>\n",
       "      <th>F</th>\n",
       "      <th>M</th>\n",
       "      <th>PercentObese</th>\n",
       "    </tr>\n",
       "  </thead>\n",
       "  <tbody>\n",
       "    <tr>\n",
       "      <th>9</th>\n",
       "      <td>2011</td>\n",
       "      <td>2012</td>\n",
       "      <td>-0.948189</td>\n",
       "      <td>-1.075830</td>\n",
       "      <td>1</td>\n",
       "      <td>0</td>\n",
       "      <td>0</td>\n",
       "      <td>-1.666802</td>\n",
       "    </tr>\n",
       "    <tr>\n",
       "      <th>325</th>\n",
       "      <td>2021</td>\n",
       "      <td>2002</td>\n",
       "      <td>1.273117</td>\n",
       "      <td>0.862132</td>\n",
       "      <td>1</td>\n",
       "      <td>0</td>\n",
       "      <td>0</td>\n",
       "      <td>0.459241</td>\n",
       "    </tr>\n",
       "    <tr>\n",
       "      <th>453</th>\n",
       "      <td>2000</td>\n",
       "      <td>2003</td>\n",
       "      <td>-1.195001</td>\n",
       "      <td>1.023629</td>\n",
       "      <td>0</td>\n",
       "      <td>0</td>\n",
       "      <td>1</td>\n",
       "      <td>0.974452</td>\n",
       "    </tr>\n",
       "    <tr>\n",
       "      <th>548</th>\n",
       "      <td>1993</td>\n",
       "      <td>1989</td>\n",
       "      <td>-1.688625</td>\n",
       "      <td>1.346623</td>\n",
       "      <td>0</td>\n",
       "      <td>0</td>\n",
       "      <td>1</td>\n",
       "      <td>-0.198394</td>\n",
       "    </tr>\n",
       "    <tr>\n",
       "      <th>229</th>\n",
       "      <td>2012</td>\n",
       "      <td>2004</td>\n",
       "      <td>-0.701378</td>\n",
       "      <td>-1.075830</td>\n",
       "      <td>0</td>\n",
       "      <td>0</td>\n",
       "      <td>0</td>\n",
       "      <td>0.971319</td>\n",
       "    </tr>\n",
       "    <tr>\n",
       "      <th>...</th>\n",
       "      <td>...</td>\n",
       "      <td>...</td>\n",
       "      <td>...</td>\n",
       "      <td>...</td>\n",
       "      <td>...</td>\n",
       "      <td>...</td>\n",
       "      <td>...</td>\n",
       "      <td>...</td>\n",
       "    </tr>\n",
       "    <tr>\n",
       "      <th>24</th>\n",
       "      <td>1988</td>\n",
       "      <td>1994</td>\n",
       "      <td>1.519928</td>\n",
       "      <td>1.185126</td>\n",
       "      <td>1</td>\n",
       "      <td>0</td>\n",
       "      <td>0</td>\n",
       "      <td>-1.235939</td>\n",
       "    </tr>\n",
       "    <tr>\n",
       "      <th>539</th>\n",
       "      <td>2015</td>\n",
       "      <td>2003</td>\n",
       "      <td>-0.207754</td>\n",
       "      <td>1.669617</td>\n",
       "      <td>0</td>\n",
       "      <td>1</td>\n",
       "      <td>1</td>\n",
       "      <td>1.239531</td>\n",
       "    </tr>\n",
       "    <tr>\n",
       "      <th>397</th>\n",
       "      <td>1993</td>\n",
       "      <td>1996</td>\n",
       "      <td>1.026305</td>\n",
       "      <td>1.023629</td>\n",
       "      <td>1</td>\n",
       "      <td>1</td>\n",
       "      <td>1</td>\n",
       "      <td>0.433073</td>\n",
       "    </tr>\n",
       "    <tr>\n",
       "      <th>286</th>\n",
       "      <td>2007</td>\n",
       "      <td>2012</td>\n",
       "      <td>-0.454566</td>\n",
       "      <td>-1.560321</td>\n",
       "      <td>1</td>\n",
       "      <td>0</td>\n",
       "      <td>1</td>\n",
       "      <td>-0.161991</td>\n",
       "    </tr>\n",
       "    <tr>\n",
       "      <th>279</th>\n",
       "      <td>2012</td>\n",
       "      <td>1990</td>\n",
       "      <td>-0.948189</td>\n",
       "      <td>-1.237327</td>\n",
       "      <td>0</td>\n",
       "      <td>1</td>\n",
       "      <td>1</td>\n",
       "      <td>0.446300</td>\n",
       "    </tr>\n",
       "  </tbody>\n",
       "</table>\n",
       "<p>475 rows × 8 columns</p>\n",
       "</div>"
      ],
      "text/plain": [
       "     StartYear  EndYear    MinAge    MaxAge  All  F  M  PercentObese\n",
       "9         2011     2012 -0.948189 -1.075830    1  0  0     -1.666802\n",
       "325       2021     2002  1.273117  0.862132    1  0  0      0.459241\n",
       "453       2000     2003 -1.195001  1.023629    0  0  1      0.974452\n",
       "548       1993     1989 -1.688625  1.346623    0  0  1     -0.198394\n",
       "229       2012     2004 -0.701378 -1.075830    0  0  0      0.971319\n",
       "..         ...      ...       ...       ...  ... .. ..           ...\n",
       "24        1988     1994  1.519928  1.185126    1  0  0     -1.235939\n",
       "539       2015     2003 -0.207754  1.669617    0  1  1      1.239531\n",
       "397       1993     1996  1.026305  1.023629    1  1  1      0.433073\n",
       "286       2007     2012 -0.454566 -1.560321    1  0  1     -0.161991\n",
       "279       2012     1990 -0.948189 -1.237327    0  1  1      0.446300\n",
       "\n",
       "[475 rows x 8 columns]"
      ]
     },
     "execution_count": 28,
     "metadata": {},
     "output_type": "execute_result"
    }
   ],
   "source": [
    "X_train, X_test, Y_train, Y_test = train_test_split(X,Y, test_size=0.2)\n",
    "train_data = X_train.join(Y_train)\n",
    "train_data"
   ]
  },
  {
   "cell_type": "code",
   "execution_count": 29,
   "id": "9af22807-fdde-4815-b82c-2afe82577fc3",
   "metadata": {
    "tags": []
   },
   "outputs": [
    {
     "data": {
      "text/plain": [
       "array([[<Axes: title={'center': 'StartYear'}>,\n",
       "        <Axes: title={'center': 'EndYear'}>,\n",
       "        <Axes: title={'center': 'MinAge'}>],\n",
       "       [<Axes: title={'center': 'MaxAge'}>,\n",
       "        <Axes: title={'center': 'All'}>, <Axes: title={'center': 'F'}>],\n",
       "       [<Axes: title={'center': 'M'}>,\n",
       "        <Axes: title={'center': 'PercentObese'}>, <Axes: >]], dtype=object)"
      ]
     },
     "execution_count": 29,
     "metadata": {},
     "output_type": "execute_result"
    },
    {
     "data": {
      "image/png": "[encoded data removed]",
      "text/plain": [
       "<Figure size 1500x800 with 9 Axes>"
      ]
     },
     "metadata": {},
     "output_type": "display_data"
    }
   ],
   "source": [
    "train_data.hist(figsize=(15,8))"
   ]
  },
  {
   "cell_type": "code",
   "execution_count": null,
   "id": "2c05493b-5a02-42da-9eb3-3804ccf84ec0",
   "metadata": {},
   "outputs": [],
   "source": []
  }
 ],
 "metadata": {
  "kernelspec": {
   "display_name": "Python 3 (ipykernel)",
   "language": "python",
   "name": "python3"
  },
  "language_info": {
   "codemirror_mode": {
    "name": "ipython",
    "version": 3
   },
   "file_extension": ".py",
   "mimetype": "text/x-python",
   "name": "python",
   "nbconvert_exporter": "python",
   "pygments_lexer": "ipython3",
   "version": "3.10.9"
  }
 },
 "nbformat": 4,
 "nbformat_minor": 5
}
